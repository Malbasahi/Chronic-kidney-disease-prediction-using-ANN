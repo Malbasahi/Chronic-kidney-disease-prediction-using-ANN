{
  "cells": [
    {
      "cell_type": "code",
      "execution_count": null,
      "metadata": {
        "id": "lRE6a5ipZX22"
      },
      "outputs": [],
      "source": [
        "#libraries \n",
        "import glob\n",
        "import numpy as np \n",
        "import pandas as pd\n",
        "import tensorflow as tf\n",
        "import keras as k\n",
        "from keras.layers import Dense\n",
        "from sklearn.model_selection import train_test_split\n",
        "from sklearn.preprocessing import LabelEncoder, MinMaxScaler\n",
        "from sklearn.model_selection import cross_val_score\n",
        "from keras.wrappers.scikit_learn import KerasClassifier\n",
        "import matplotlib.pyplot as plt\n",
        "from tensorflow.keras.models import Sequential\n",
        "from tensorflow.keras.models import load_model\n",
        "from google.colab import files"
      ]
    },
    {
      "cell_type": "code",
      "execution_count": null,
      "metadata": {
        "colab": {
          "base_uri": "https://localhost:8080/",
          "height": 73
        },
        "id": "VcxUb9LoZ7od",
        "outputId": "c33c5ac2-8a08-44b2-cc55-c1102570433e"
      },
      "outputs": [
        {
          "output_type": "display_data",
          "data": {
            "text/plain": [
              "<IPython.core.display.HTML object>"
            ],
            "text/html": [
              "\n",
              "     <input type=\"file\" id=\"files-af133f83-4e90-4d4d-becc-a3f4ec314ed2\" name=\"files[]\" multiple disabled\n",
              "        style=\"border:none\" />\n",
              "     <output id=\"result-af133f83-4e90-4d4d-becc-a3f4ec314ed2\">\n",
              "      Upload widget is only available when the cell has been executed in the\n",
              "      current browser session. Please rerun this cell to enable.\n",
              "      </output>\n",
              "      <script>// Copyright 2017 Google LLC\n",
              "//\n",
              "// Licensed under the Apache License, Version 2.0 (the \"License\");\n",
              "// you may not use this file except in compliance with the License.\n",
              "// You may obtain a copy of the License at\n",
              "//\n",
              "//      http://www.apache.org/licenses/LICENSE-2.0\n",
              "//\n",
              "// Unless required by applicable law or agreed to in writing, software\n",
              "// distributed under the License is distributed on an \"AS IS\" BASIS,\n",
              "// WITHOUT WARRANTIES OR CONDITIONS OF ANY KIND, either express or implied.\n",
              "// See the License for the specific language governing permissions and\n",
              "// limitations under the License.\n",
              "\n",
              "/**\n",
              " * @fileoverview Helpers for google.colab Python module.\n",
              " */\n",
              "(function(scope) {\n",
              "function span(text, styleAttributes = {}) {\n",
              "  const element = document.createElement('span');\n",
              "  element.textContent = text;\n",
              "  for (const key of Object.keys(styleAttributes)) {\n",
              "    element.style[key] = styleAttributes[key];\n",
              "  }\n",
              "  return element;\n",
              "}\n",
              "\n",
              "// Max number of bytes which will be uploaded at a time.\n",
              "const MAX_PAYLOAD_SIZE = 100 * 1024;\n",
              "\n",
              "function _uploadFiles(inputId, outputId) {\n",
              "  const steps = uploadFilesStep(inputId, outputId);\n",
              "  const outputElement = document.getElementById(outputId);\n",
              "  // Cache steps on the outputElement to make it available for the next call\n",
              "  // to uploadFilesContinue from Python.\n",
              "  outputElement.steps = steps;\n",
              "\n",
              "  return _uploadFilesContinue(outputId);\n",
              "}\n",
              "\n",
              "// This is roughly an async generator (not supported in the browser yet),\n",
              "// where there are multiple asynchronous steps and the Python side is going\n",
              "// to poll for completion of each step.\n",
              "// This uses a Promise to block the python side on completion of each step,\n",
              "// then passes the result of the previous step as the input to the next step.\n",
              "function _uploadFilesContinue(outputId) {\n",
              "  const outputElement = document.getElementById(outputId);\n",
              "  const steps = outputElement.steps;\n",
              "\n",
              "  const next = steps.next(outputElement.lastPromiseValue);\n",
              "  return Promise.resolve(next.value.promise).then((value) => {\n",
              "    // Cache the last promise value to make it available to the next\n",
              "    // step of the generator.\n",
              "    outputElement.lastPromiseValue = value;\n",
              "    return next.value.response;\n",
              "  });\n",
              "}\n",
              "\n",
              "/**\n",
              " * Generator function which is called between each async step of the upload\n",
              " * process.\n",
              " * @param {string} inputId Element ID of the input file picker element.\n",
              " * @param {string} outputId Element ID of the output display.\n",
              " * @return {!Iterable<!Object>} Iterable of next steps.\n",
              " */\n",
              "function* uploadFilesStep(inputId, outputId) {\n",
              "  const inputElement = document.getElementById(inputId);\n",
              "  inputElement.disabled = false;\n",
              "\n",
              "  const outputElement = document.getElementById(outputId);\n",
              "  outputElement.innerHTML = '';\n",
              "\n",
              "  const pickedPromise = new Promise((resolve) => {\n",
              "    inputElement.addEventListener('change', (e) => {\n",
              "      resolve(e.target.files);\n",
              "    });\n",
              "  });\n",
              "\n",
              "  const cancel = document.createElement('button');\n",
              "  inputElement.parentElement.appendChild(cancel);\n",
              "  cancel.textContent = 'Cancel upload';\n",
              "  const cancelPromise = new Promise((resolve) => {\n",
              "    cancel.onclick = () => {\n",
              "      resolve(null);\n",
              "    };\n",
              "  });\n",
              "\n",
              "  // Wait for the user to pick the files.\n",
              "  const files = yield {\n",
              "    promise: Promise.race([pickedPromise, cancelPromise]),\n",
              "    response: {\n",
              "      action: 'starting',\n",
              "    }\n",
              "  };\n",
              "\n",
              "  cancel.remove();\n",
              "\n",
              "  // Disable the input element since further picks are not allowed.\n",
              "  inputElement.disabled = true;\n",
              "\n",
              "  if (!files) {\n",
              "    return {\n",
              "      response: {\n",
              "        action: 'complete',\n",
              "      }\n",
              "    };\n",
              "  }\n",
              "\n",
              "  for (const file of files) {\n",
              "    const li = document.createElement('li');\n",
              "    li.append(span(file.name, {fontWeight: 'bold'}));\n",
              "    li.append(span(\n",
              "        `(${file.type || 'n/a'}) - ${file.size} bytes, ` +\n",
              "        `last modified: ${\n",
              "            file.lastModifiedDate ? file.lastModifiedDate.toLocaleDateString() :\n",
              "                                    'n/a'} - `));\n",
              "    const percent = span('0% done');\n",
              "    li.appendChild(percent);\n",
              "\n",
              "    outputElement.appendChild(li);\n",
              "\n",
              "    const fileDataPromise = new Promise((resolve) => {\n",
              "      const reader = new FileReader();\n",
              "      reader.onload = (e) => {\n",
              "        resolve(e.target.result);\n",
              "      };\n",
              "      reader.readAsArrayBuffer(file);\n",
              "    });\n",
              "    // Wait for the data to be ready.\n",
              "    let fileData = yield {\n",
              "      promise: fileDataPromise,\n",
              "      response: {\n",
              "        action: 'continue',\n",
              "      }\n",
              "    };\n",
              "\n",
              "    // Use a chunked sending to avoid message size limits. See b/62115660.\n",
              "    let position = 0;\n",
              "    do {\n",
              "      const length = Math.min(fileData.byteLength - position, MAX_PAYLOAD_SIZE);\n",
              "      const chunk = new Uint8Array(fileData, position, length);\n",
              "      position += length;\n",
              "\n",
              "      const base64 = btoa(String.fromCharCode.apply(null, chunk));\n",
              "      yield {\n",
              "        response: {\n",
              "          action: 'append',\n",
              "          file: file.name,\n",
              "          data: base64,\n",
              "        },\n",
              "      };\n",
              "\n",
              "      let percentDone = fileData.byteLength === 0 ?\n",
              "          100 :\n",
              "          Math.round((position / fileData.byteLength) * 100);\n",
              "      percent.textContent = `${percentDone}% done`;\n",
              "\n",
              "    } while (position < fileData.byteLength);\n",
              "  }\n",
              "\n",
              "  // All done.\n",
              "  yield {\n",
              "    response: {\n",
              "      action: 'complete',\n",
              "    }\n",
              "  };\n",
              "}\n",
              "\n",
              "scope.google = scope.google || {};\n",
              "scope.google.colab = scope.google.colab || {};\n",
              "scope.google.colab._files = {\n",
              "  _uploadFiles,\n",
              "  _uploadFilesContinue,\n",
              "};\n",
              "})(self);\n",
              "</script> "
            ]
          },
          "metadata": {}
        },
        {
          "output_type": "stream",
          "name": "stdout",
          "text": [
            "Saving ckd.csv to ckd (1).csv\n"
          ]
        }
      ],
      "source": [
        "#load the data \n",
        "from google.colab import files\n",
        "uploaded = files.upload()"
      ]
    },
    {
      "cell_type": "code",
      "execution_count": null,
      "metadata": {
        "colab": {
          "base_uri": "https://localhost:8080/",
          "height": 235
        },
        "id": "yrY9sn_VabA7",
        "outputId": "780f79da-c3fd-4f62-8f5c-1cfc7211a06f"
      },
      "outputs": [
        {
          "output_type": "execute_result",
          "data": {
            "text/plain": [
              "  Age  Bp     Sg Al Su     Rbc        Pc         Pcc          Ba  Bgr  ...  \\\n",
              "0  48  80   1.02  1  0       ?    normal  notpresent  notpresent  121  ...   \n",
              "1   7  50   1.02  4  0       ?    normal  notpresent  notpresent    ?  ...   \n",
              "2  62  80   1.01  2  3  normal    normal  notpresent  notpresent  423  ...   \n",
              "3  48  70  1.005  4  0  normal  abnormal     present  notpresent  117  ...   \n",
              "4  51  80   1.01  2  0  normal    normal  notpresent  notpresent  106  ...   \n",
              "\n",
              "  Pcv  Wbcc Rbcc  Htn   Dm Cad Appet   pe  Ane Class  \n",
              "0  44  7800  5.2  yes  yes  no  good   no   no   ckd  \n",
              "1  38  6000    ?   no   no  no  good   no   no   ckd  \n",
              "2  31  7500    ?   no  yes  no  poor   no  yes   ckd  \n",
              "3  32  6700  3.9  yes   no  no  poor  yes  yes   ckd  \n",
              "4  35  7300  4.6   no   no  no  good   no   no   ckd  \n",
              "\n",
              "[5 rows x 25 columns]"
            ],
            "text/html": [
              "\n",
              "  <div id=\"df-a931999c-b05d-47cf-ad5f-b1e4aaa15005\">\n",
              "    <div class=\"colab-df-container\">\n",
              "      <div>\n",
              "<style scoped>\n",
              "    .dataframe tbody tr th:only-of-type {\n",
              "        vertical-align: middle;\n",
              "    }\n",
              "\n",
              "    .dataframe tbody tr th {\n",
              "        vertical-align: top;\n",
              "    }\n",
              "\n",
              "    .dataframe thead th {\n",
              "        text-align: right;\n",
              "    }\n",
              "</style>\n",
              "<table border=\"1\" class=\"dataframe\">\n",
              "  <thead>\n",
              "    <tr style=\"text-align: right;\">\n",
              "      <th></th>\n",
              "      <th>Age</th>\n",
              "      <th>Bp</th>\n",
              "      <th>Sg</th>\n",
              "      <th>Al</th>\n",
              "      <th>Su</th>\n",
              "      <th>Rbc</th>\n",
              "      <th>Pc</th>\n",
              "      <th>Pcc</th>\n",
              "      <th>Ba</th>\n",
              "      <th>Bgr</th>\n",
              "      <th>...</th>\n",
              "      <th>Pcv</th>\n",
              "      <th>Wbcc</th>\n",
              "      <th>Rbcc</th>\n",
              "      <th>Htn</th>\n",
              "      <th>Dm</th>\n",
              "      <th>Cad</th>\n",
              "      <th>Appet</th>\n",
              "      <th>pe</th>\n",
              "      <th>Ane</th>\n",
              "      <th>Class</th>\n",
              "    </tr>\n",
              "  </thead>\n",
              "  <tbody>\n",
              "    <tr>\n",
              "      <th>0</th>\n",
              "      <td>48</td>\n",
              "      <td>80</td>\n",
              "      <td>1.02</td>\n",
              "      <td>1</td>\n",
              "      <td>0</td>\n",
              "      <td>?</td>\n",
              "      <td>normal</td>\n",
              "      <td>notpresent</td>\n",
              "      <td>notpresent</td>\n",
              "      <td>121</td>\n",
              "      <td>...</td>\n",
              "      <td>44</td>\n",
              "      <td>7800</td>\n",
              "      <td>5.2</td>\n",
              "      <td>yes</td>\n",
              "      <td>yes</td>\n",
              "      <td>no</td>\n",
              "      <td>good</td>\n",
              "      <td>no</td>\n",
              "      <td>no</td>\n",
              "      <td>ckd</td>\n",
              "    </tr>\n",
              "    <tr>\n",
              "      <th>1</th>\n",
              "      <td>7</td>\n",
              "      <td>50</td>\n",
              "      <td>1.02</td>\n",
              "      <td>4</td>\n",
              "      <td>0</td>\n",
              "      <td>?</td>\n",
              "      <td>normal</td>\n",
              "      <td>notpresent</td>\n",
              "      <td>notpresent</td>\n",
              "      <td>?</td>\n",
              "      <td>...</td>\n",
              "      <td>38</td>\n",
              "      <td>6000</td>\n",
              "      <td>?</td>\n",
              "      <td>no</td>\n",
              "      <td>no</td>\n",
              "      <td>no</td>\n",
              "      <td>good</td>\n",
              "      <td>no</td>\n",
              "      <td>no</td>\n",
              "      <td>ckd</td>\n",
              "    </tr>\n",
              "    <tr>\n",
              "      <th>2</th>\n",
              "      <td>62</td>\n",
              "      <td>80</td>\n",
              "      <td>1.01</td>\n",
              "      <td>2</td>\n",
              "      <td>3</td>\n",
              "      <td>normal</td>\n",
              "      <td>normal</td>\n",
              "      <td>notpresent</td>\n",
              "      <td>notpresent</td>\n",
              "      <td>423</td>\n",
              "      <td>...</td>\n",
              "      <td>31</td>\n",
              "      <td>7500</td>\n",
              "      <td>?</td>\n",
              "      <td>no</td>\n",
              "      <td>yes</td>\n",
              "      <td>no</td>\n",
              "      <td>poor</td>\n",
              "      <td>no</td>\n",
              "      <td>yes</td>\n",
              "      <td>ckd</td>\n",
              "    </tr>\n",
              "    <tr>\n",
              "      <th>3</th>\n",
              "      <td>48</td>\n",
              "      <td>70</td>\n",
              "      <td>1.005</td>\n",
              "      <td>4</td>\n",
              "      <td>0</td>\n",
              "      <td>normal</td>\n",
              "      <td>abnormal</td>\n",
              "      <td>present</td>\n",
              "      <td>notpresent</td>\n",
              "      <td>117</td>\n",
              "      <td>...</td>\n",
              "      <td>32</td>\n",
              "      <td>6700</td>\n",
              "      <td>3.9</td>\n",
              "      <td>yes</td>\n",
              "      <td>no</td>\n",
              "      <td>no</td>\n",
              "      <td>poor</td>\n",
              "      <td>yes</td>\n",
              "      <td>yes</td>\n",
              "      <td>ckd</td>\n",
              "    </tr>\n",
              "    <tr>\n",
              "      <th>4</th>\n",
              "      <td>51</td>\n",
              "      <td>80</td>\n",
              "      <td>1.01</td>\n",
              "      <td>2</td>\n",
              "      <td>0</td>\n",
              "      <td>normal</td>\n",
              "      <td>normal</td>\n",
              "      <td>notpresent</td>\n",
              "      <td>notpresent</td>\n",
              "      <td>106</td>\n",
              "      <td>...</td>\n",
              "      <td>35</td>\n",
              "      <td>7300</td>\n",
              "      <td>4.6</td>\n",
              "      <td>no</td>\n",
              "      <td>no</td>\n",
              "      <td>no</td>\n",
              "      <td>good</td>\n",
              "      <td>no</td>\n",
              "      <td>no</td>\n",
              "      <td>ckd</td>\n",
              "    </tr>\n",
              "  </tbody>\n",
              "</table>\n",
              "<p>5 rows × 25 columns</p>\n",
              "</div>\n",
              "      <button class=\"colab-df-convert\" onclick=\"convertToInteractive('df-a931999c-b05d-47cf-ad5f-b1e4aaa15005')\"\n",
              "              title=\"Convert this dataframe to an interactive table.\"\n",
              "              style=\"display:none;\">\n",
              "        \n",
              "  <svg xmlns=\"http://www.w3.org/2000/svg\" height=\"24px\"viewBox=\"0 0 24 24\"\n",
              "       width=\"24px\">\n",
              "    <path d=\"M0 0h24v24H0V0z\" fill=\"none\"/>\n",
              "    <path d=\"M18.56 5.44l.94 2.06.94-2.06 2.06-.94-2.06-.94-.94-2.06-.94 2.06-2.06.94zm-11 1L8.5 8.5l.94-2.06 2.06-.94-2.06-.94L8.5 2.5l-.94 2.06-2.06.94zm10 10l.94 2.06.94-2.06 2.06-.94-2.06-.94-.94-2.06-.94 2.06-2.06.94z\"/><path d=\"M17.41 7.96l-1.37-1.37c-.4-.4-.92-.59-1.43-.59-.52 0-1.04.2-1.43.59L10.3 9.45l-7.72 7.72c-.78.78-.78 2.05 0 2.83L4 21.41c.39.39.9.59 1.41.59.51 0 1.02-.2 1.41-.59l7.78-7.78 2.81-2.81c.8-.78.8-2.07 0-2.86zM5.41 20L4 18.59l7.72-7.72 1.47 1.35L5.41 20z\"/>\n",
              "  </svg>\n",
              "      </button>\n",
              "      \n",
              "  <style>\n",
              "    .colab-df-container {\n",
              "      display:flex;\n",
              "      flex-wrap:wrap;\n",
              "      gap: 12px;\n",
              "    }\n",
              "\n",
              "    .colab-df-convert {\n",
              "      background-color: #E8F0FE;\n",
              "      border: none;\n",
              "      border-radius: 50%;\n",
              "      cursor: pointer;\n",
              "      display: none;\n",
              "      fill: #1967D2;\n",
              "      height: 32px;\n",
              "      padding: 0 0 0 0;\n",
              "      width: 32px;\n",
              "    }\n",
              "\n",
              "    .colab-df-convert:hover {\n",
              "      background-color: #E2EBFA;\n",
              "      box-shadow: 0px 1px 2px rgba(60, 64, 67, 0.3), 0px 1px 3px 1px rgba(60, 64, 67, 0.15);\n",
              "      fill: #174EA6;\n",
              "    }\n",
              "\n",
              "    [theme=dark] .colab-df-convert {\n",
              "      background-color: #3B4455;\n",
              "      fill: #D2E3FC;\n",
              "    }\n",
              "\n",
              "    [theme=dark] .colab-df-convert:hover {\n",
              "      background-color: #434B5C;\n",
              "      box-shadow: 0px 1px 3px 1px rgba(0, 0, 0, 0.15);\n",
              "      filter: drop-shadow(0px 1px 2px rgba(0, 0, 0, 0.3));\n",
              "      fill: #FFFFFF;\n",
              "    }\n",
              "  </style>\n",
              "\n",
              "      <script>\n",
              "        const buttonEl =\n",
              "          document.querySelector('#df-a931999c-b05d-47cf-ad5f-b1e4aaa15005 button.colab-df-convert');\n",
              "        buttonEl.style.display =\n",
              "          google.colab.kernel.accessAllowed ? 'block' : 'none';\n",
              "\n",
              "        async function convertToInteractive(key) {\n",
              "          const element = document.querySelector('#df-a931999c-b05d-47cf-ad5f-b1e4aaa15005');\n",
              "          const dataTable =\n",
              "            await google.colab.kernel.invokeFunction('convertToInteractive',\n",
              "                                                     [key], {});\n",
              "          if (!dataTable) return;\n",
              "\n",
              "          const docLinkHtml = 'Like what you see? Visit the ' +\n",
              "            '<a target=\"_blank\" href=https://colab.research.google.com/notebooks/data_table.ipynb>data table notebook</a>'\n",
              "            + ' to learn more about interactive tables.';\n",
              "          element.innerHTML = '';\n",
              "          dataTable['output_type'] = 'display_data';\n",
              "          await google.colab.output.renderOutput(dataTable, element);\n",
              "          const docLink = document.createElement('div');\n",
              "          docLink.innerHTML = docLinkHtml;\n",
              "          element.appendChild(docLink);\n",
              "        }\n",
              "      </script>\n",
              "    </div>\n",
              "  </div>\n",
              "  "
            ]
          },
          "metadata": {},
          "execution_count": 424
        }
      ],
      "source": [
        "df = pd.read_csv(\"ckd.csv\")\n",
        "df.head()"
      ]
    },
    {
      "cell_type": "code",
      "execution_count": null,
      "metadata": {
        "colab": {
          "base_uri": "https://localhost:8080/"
        },
        "id": "YoIA5if2amaa",
        "outputId": "96ca586d-1bdf-4059-f14b-484d64327d12"
      },
      "outputs": [
        {
          "output_type": "execute_result",
          "data": {
            "text/plain": [
              "(400, 25)"
            ]
          },
          "metadata": {},
          "execution_count": 425
        }
      ],
      "source": [
        "#Get the shape of the data (the number of rows & columns)\n",
        "df.shape"
      ]
    },
    {
      "cell_type": "code",
      "execution_count": null,
      "metadata": {
        "id": "P_fP5vc-atrL"
      },
      "outputs": [],
      "source": [
        "#Create a list of columns to retain\n",
        "columns_to_retain = [\"Age\" ,\"Bp\" ,\"Sg\", \"Al\", \"Su\", \"Rbc\", \"Pc\", \"Pcc\", \"Bgr\", \n",
        "                     \"Pcv\", \"Wbcc\", \"Rbcc\", \"Htn\", \"Dm\", \"Appet\", \"Ane\", \"Class\"]"
      ]
    },
    {
      "cell_type": "code",
      "execution_count": null,
      "metadata": {
        "id": "MBz7pO2vd8Ij"
      },
      "outputs": [],
      "source": [
        "#columns_to_retain = df.columns, Drop the columns that are not in columns_to_retain\n",
        "df = df.drop([col for col in df.columns if not col in columns_to_retain], axis=1)\n",
        "    \n",
        "# Drop the rows with na or missing values\n",
        "df = df.dropna(axis=0)"
      ]
    },
    {
      "cell_type": "code",
      "execution_count": null,
      "metadata": {
        "colab": {
          "base_uri": "https://localhost:8080/"
        },
        "id": "O8YXyf1qb0f2",
        "outputId": "d579b9b3-ccfa-45e4-ca1b-0b6e2ec389d0"
      },
      "outputs": [
        {
          "output_type": "stream",
          "name": "stderr",
          "text": [
            "<ipython-input-428-5b9f87948f24>:3: DeprecationWarning: Converting `np.inexact` or `np.floating` to a dtype is deprecated. The current result is `float64` which is not strictly correct.\n",
            "  if df[column].dtype == np.number:\n",
            "<ipython-input-428-5b9f87948f24>:3: DeprecationWarning: Converting `np.inexact` or `np.floating` to a dtype is deprecated. The current result is `float64` which is not strictly correct.\n",
            "  if df[column].dtype == np.number:\n",
            "<ipython-input-428-5b9f87948f24>:3: DeprecationWarning: Converting `np.inexact` or `np.floating` to a dtype is deprecated. The current result is `float64` which is not strictly correct.\n",
            "  if df[column].dtype == np.number:\n",
            "<ipython-input-428-5b9f87948f24>:3: DeprecationWarning: Converting `np.inexact` or `np.floating` to a dtype is deprecated. The current result is `float64` which is not strictly correct.\n",
            "  if df[column].dtype == np.number:\n",
            "<ipython-input-428-5b9f87948f24>:3: DeprecationWarning: Converting `np.inexact` or `np.floating` to a dtype is deprecated. The current result is `float64` which is not strictly correct.\n",
            "  if df[column].dtype == np.number:\n",
            "<ipython-input-428-5b9f87948f24>:3: DeprecationWarning: Converting `np.inexact` or `np.floating` to a dtype is deprecated. The current result is `float64` which is not strictly correct.\n",
            "  if df[column].dtype == np.number:\n",
            "<ipython-input-428-5b9f87948f24>:3: DeprecationWarning: Converting `np.inexact` or `np.floating` to a dtype is deprecated. The current result is `float64` which is not strictly correct.\n",
            "  if df[column].dtype == np.number:\n",
            "<ipython-input-428-5b9f87948f24>:3: DeprecationWarning: Converting `np.inexact` or `np.floating` to a dtype is deprecated. The current result is `float64` which is not strictly correct.\n",
            "  if df[column].dtype == np.number:\n",
            "<ipython-input-428-5b9f87948f24>:3: DeprecationWarning: Converting `np.inexact` or `np.floating` to a dtype is deprecated. The current result is `float64` which is not strictly correct.\n",
            "  if df[column].dtype == np.number:\n",
            "<ipython-input-428-5b9f87948f24>:3: DeprecationWarning: Converting `np.inexact` or `np.floating` to a dtype is deprecated. The current result is `float64` which is not strictly correct.\n",
            "  if df[column].dtype == np.number:\n",
            "<ipython-input-428-5b9f87948f24>:3: DeprecationWarning: Converting `np.inexact` or `np.floating` to a dtype is deprecated. The current result is `float64` which is not strictly correct.\n",
            "  if df[column].dtype == np.number:\n",
            "<ipython-input-428-5b9f87948f24>:3: DeprecationWarning: Converting `np.inexact` or `np.floating` to a dtype is deprecated. The current result is `float64` which is not strictly correct.\n",
            "  if df[column].dtype == np.number:\n",
            "<ipython-input-428-5b9f87948f24>:3: DeprecationWarning: Converting `np.inexact` or `np.floating` to a dtype is deprecated. The current result is `float64` which is not strictly correct.\n",
            "  if df[column].dtype == np.number:\n",
            "<ipython-input-428-5b9f87948f24>:3: DeprecationWarning: Converting `np.inexact` or `np.floating` to a dtype is deprecated. The current result is `float64` which is not strictly correct.\n",
            "  if df[column].dtype == np.number:\n",
            "<ipython-input-428-5b9f87948f24>:3: DeprecationWarning: Converting `np.inexact` or `np.floating` to a dtype is deprecated. The current result is `float64` which is not strictly correct.\n",
            "  if df[column].dtype == np.number:\n",
            "<ipython-input-428-5b9f87948f24>:3: DeprecationWarning: Converting `np.inexact` or `np.floating` to a dtype is deprecated. The current result is `float64` which is not strictly correct.\n",
            "  if df[column].dtype == np.number:\n",
            "<ipython-input-428-5b9f87948f24>:3: DeprecationWarning: Converting `np.inexact` or `np.floating` to a dtype is deprecated. The current result is `float64` which is not strictly correct.\n",
            "  if df[column].dtype == np.number:\n"
          ]
        }
      ],
      "source": [
        "#Transform non-numeric columns into numerical columns\n",
        "for column in df.columns:\n",
        "        if df[column].dtype == np.number:\n",
        "            continue\n",
        "        df[column] = LabelEncoder().fit_transform(df[column])"
      ]
    },
    {
      "cell_type": "code",
      "execution_count": null,
      "metadata": {
        "colab": {
          "base_uri": "https://localhost:8080/",
          "height": 206
        },
        "id": "stve6RBTb4vn",
        "outputId": "0b13945c-39c1-4cb3-9e42-ba9cbfcea0f1"
      },
      "outputs": [
        {
          "output_type": "execute_result",
          "data": {
            "text/plain": [
              "   Age  Bp  Sg  Al  Su  Rbc  Pc  Pcc  Bgr  Pcv  Wbcc  Rbcc  Htn  Dm  Appet  \\\n",
              "0   36   8   3   1   0    0   2    1   21   30    69    30    2   1      1   \n",
              "1   60   5   3   4   0    0   2    1  146   24    53    45    1   0      1   \n",
              "2   52   8   1   2   3    2   2    1  114   17    67    45    1   1      2   \n",
              "3   36   7   0   4   0    2   1    2   17   18    59    17    2   0      2   \n",
              "4   40   8   1   2   0    2   2    1    6   21    65    24    1   0      1   \n",
              "\n",
              "   Ane  Class  \n",
              "0    1      0  \n",
              "1    1      0  \n",
              "2    2      0  \n",
              "3    2      0  \n",
              "4    1      0  "
            ],
            "text/html": [
              "\n",
              "  <div id=\"df-7efd6ea2-856a-4c37-8d12-812ddc2fa1ca\">\n",
              "    <div class=\"colab-df-container\">\n",
              "      <div>\n",
              "<style scoped>\n",
              "    .dataframe tbody tr th:only-of-type {\n",
              "        vertical-align: middle;\n",
              "    }\n",
              "\n",
              "    .dataframe tbody tr th {\n",
              "        vertical-align: top;\n",
              "    }\n",
              "\n",
              "    .dataframe thead th {\n",
              "        text-align: right;\n",
              "    }\n",
              "</style>\n",
              "<table border=\"1\" class=\"dataframe\">\n",
              "  <thead>\n",
              "    <tr style=\"text-align: right;\">\n",
              "      <th></th>\n",
              "      <th>Age</th>\n",
              "      <th>Bp</th>\n",
              "      <th>Sg</th>\n",
              "      <th>Al</th>\n",
              "      <th>Su</th>\n",
              "      <th>Rbc</th>\n",
              "      <th>Pc</th>\n",
              "      <th>Pcc</th>\n",
              "      <th>Bgr</th>\n",
              "      <th>Pcv</th>\n",
              "      <th>Wbcc</th>\n",
              "      <th>Rbcc</th>\n",
              "      <th>Htn</th>\n",
              "      <th>Dm</th>\n",
              "      <th>Appet</th>\n",
              "      <th>Ane</th>\n",
              "      <th>Class</th>\n",
              "    </tr>\n",
              "  </thead>\n",
              "  <tbody>\n",
              "    <tr>\n",
              "      <th>0</th>\n",
              "      <td>36</td>\n",
              "      <td>8</td>\n",
              "      <td>3</td>\n",
              "      <td>1</td>\n",
              "      <td>0</td>\n",
              "      <td>0</td>\n",
              "      <td>2</td>\n",
              "      <td>1</td>\n",
              "      <td>21</td>\n",
              "      <td>30</td>\n",
              "      <td>69</td>\n",
              "      <td>30</td>\n",
              "      <td>2</td>\n",
              "      <td>1</td>\n",
              "      <td>1</td>\n",
              "      <td>1</td>\n",
              "      <td>0</td>\n",
              "    </tr>\n",
              "    <tr>\n",
              "      <th>1</th>\n",
              "      <td>60</td>\n",
              "      <td>5</td>\n",
              "      <td>3</td>\n",
              "      <td>4</td>\n",
              "      <td>0</td>\n",
              "      <td>0</td>\n",
              "      <td>2</td>\n",
              "      <td>1</td>\n",
              "      <td>146</td>\n",
              "      <td>24</td>\n",
              "      <td>53</td>\n",
              "      <td>45</td>\n",
              "      <td>1</td>\n",
              "      <td>0</td>\n",
              "      <td>1</td>\n",
              "      <td>1</td>\n",
              "      <td>0</td>\n",
              "    </tr>\n",
              "    <tr>\n",
              "      <th>2</th>\n",
              "      <td>52</td>\n",
              "      <td>8</td>\n",
              "      <td>1</td>\n",
              "      <td>2</td>\n",
              "      <td>3</td>\n",
              "      <td>2</td>\n",
              "      <td>2</td>\n",
              "      <td>1</td>\n",
              "      <td>114</td>\n",
              "      <td>17</td>\n",
              "      <td>67</td>\n",
              "      <td>45</td>\n",
              "      <td>1</td>\n",
              "      <td>1</td>\n",
              "      <td>2</td>\n",
              "      <td>2</td>\n",
              "      <td>0</td>\n",
              "    </tr>\n",
              "    <tr>\n",
              "      <th>3</th>\n",
              "      <td>36</td>\n",
              "      <td>7</td>\n",
              "      <td>0</td>\n",
              "      <td>4</td>\n",
              "      <td>0</td>\n",
              "      <td>2</td>\n",
              "      <td>1</td>\n",
              "      <td>2</td>\n",
              "      <td>17</td>\n",
              "      <td>18</td>\n",
              "      <td>59</td>\n",
              "      <td>17</td>\n",
              "      <td>2</td>\n",
              "      <td>0</td>\n",
              "      <td>2</td>\n",
              "      <td>2</td>\n",
              "      <td>0</td>\n",
              "    </tr>\n",
              "    <tr>\n",
              "      <th>4</th>\n",
              "      <td>40</td>\n",
              "      <td>8</td>\n",
              "      <td>1</td>\n",
              "      <td>2</td>\n",
              "      <td>0</td>\n",
              "      <td>2</td>\n",
              "      <td>2</td>\n",
              "      <td>1</td>\n",
              "      <td>6</td>\n",
              "      <td>21</td>\n",
              "      <td>65</td>\n",
              "      <td>24</td>\n",
              "      <td>1</td>\n",
              "      <td>0</td>\n",
              "      <td>1</td>\n",
              "      <td>1</td>\n",
              "      <td>0</td>\n",
              "    </tr>\n",
              "  </tbody>\n",
              "</table>\n",
              "</div>\n",
              "      <button class=\"colab-df-convert\" onclick=\"convertToInteractive('df-7efd6ea2-856a-4c37-8d12-812ddc2fa1ca')\"\n",
              "              title=\"Convert this dataframe to an interactive table.\"\n",
              "              style=\"display:none;\">\n",
              "        \n",
              "  <svg xmlns=\"http://www.w3.org/2000/svg\" height=\"24px\"viewBox=\"0 0 24 24\"\n",
              "       width=\"24px\">\n",
              "    <path d=\"M0 0h24v24H0V0z\" fill=\"none\"/>\n",
              "    <path d=\"M18.56 5.44l.94 2.06.94-2.06 2.06-.94-2.06-.94-.94-2.06-.94 2.06-2.06.94zm-11 1L8.5 8.5l.94-2.06 2.06-.94-2.06-.94L8.5 2.5l-.94 2.06-2.06.94zm10 10l.94 2.06.94-2.06 2.06-.94-2.06-.94-.94-2.06-.94 2.06-2.06.94z\"/><path d=\"M17.41 7.96l-1.37-1.37c-.4-.4-.92-.59-1.43-.59-.52 0-1.04.2-1.43.59L10.3 9.45l-7.72 7.72c-.78.78-.78 2.05 0 2.83L4 21.41c.39.39.9.59 1.41.59.51 0 1.02-.2 1.41-.59l7.78-7.78 2.81-2.81c.8-.78.8-2.07 0-2.86zM5.41 20L4 18.59l7.72-7.72 1.47 1.35L5.41 20z\"/>\n",
              "  </svg>\n",
              "      </button>\n",
              "      \n",
              "  <style>\n",
              "    .colab-df-container {\n",
              "      display:flex;\n",
              "      flex-wrap:wrap;\n",
              "      gap: 12px;\n",
              "    }\n",
              "\n",
              "    .colab-df-convert {\n",
              "      background-color: #E8F0FE;\n",
              "      border: none;\n",
              "      border-radius: 50%;\n",
              "      cursor: pointer;\n",
              "      display: none;\n",
              "      fill: #1967D2;\n",
              "      height: 32px;\n",
              "      padding: 0 0 0 0;\n",
              "      width: 32px;\n",
              "    }\n",
              "\n",
              "    .colab-df-convert:hover {\n",
              "      background-color: #E2EBFA;\n",
              "      box-shadow: 0px 1px 2px rgba(60, 64, 67, 0.3), 0px 1px 3px 1px rgba(60, 64, 67, 0.15);\n",
              "      fill: #174EA6;\n",
              "    }\n",
              "\n",
              "    [theme=dark] .colab-df-convert {\n",
              "      background-color: #3B4455;\n",
              "      fill: #D2E3FC;\n",
              "    }\n",
              "\n",
              "    [theme=dark] .colab-df-convert:hover {\n",
              "      background-color: #434B5C;\n",
              "      box-shadow: 0px 1px 3px 1px rgba(0, 0, 0, 0.15);\n",
              "      filter: drop-shadow(0px 1px 2px rgba(0, 0, 0, 0.3));\n",
              "      fill: #FFFFFF;\n",
              "    }\n",
              "  </style>\n",
              "\n",
              "      <script>\n",
              "        const buttonEl =\n",
              "          document.querySelector('#df-7efd6ea2-856a-4c37-8d12-812ddc2fa1ca button.colab-df-convert');\n",
              "        buttonEl.style.display =\n",
              "          google.colab.kernel.accessAllowed ? 'block' : 'none';\n",
              "\n",
              "        async function convertToInteractive(key) {\n",
              "          const element = document.querySelector('#df-7efd6ea2-856a-4c37-8d12-812ddc2fa1ca');\n",
              "          const dataTable =\n",
              "            await google.colab.kernel.invokeFunction('convertToInteractive',\n",
              "                                                     [key], {});\n",
              "          if (!dataTable) return;\n",
              "\n",
              "          const docLinkHtml = 'Like what you see? Visit the ' +\n",
              "            '<a target=\"_blank\" href=https://colab.research.google.com/notebooks/data_table.ipynb>data table notebook</a>'\n",
              "            + ' to learn more about interactive tables.';\n",
              "          element.innerHTML = '';\n",
              "          dataTable['output_type'] = 'display_data';\n",
              "          await google.colab.output.renderOutput(dataTable, element);\n",
              "          const docLink = document.createElement('div');\n",
              "          docLink.innerHTML = docLinkHtml;\n",
              "          element.appendChild(docLink);\n",
              "        }\n",
              "      </script>\n",
              "    </div>\n",
              "  </div>\n",
              "  "
            ]
          },
          "metadata": {},
          "execution_count": 429
        }
      ],
      "source": [
        "#@title Default title text\n",
        "df.head()"
      ]
    },
    {
      "cell_type": "code",
      "execution_count": null,
      "metadata": {
        "id": "lhu_0I-meOuq"
      },
      "outputs": [],
      "source": [
        "#Split the data\n",
        "X = df.drop([\"Class\"], axis=1)\n",
        "y = df[\"Class\"]"
      ]
    },
    {
      "cell_type": "code",
      "execution_count": null,
      "metadata": {
        "id": "X9-T4Bj1ecCa"
      },
      "outputs": [],
      "source": [
        "#Feature Scaling\n",
        "x_scaler = MinMaxScaler()\n",
        "x_scaler.fit(X)\n",
        "column_names = X.columns\n",
        "X[column_names] = x_scaler.transform(X)"
      ]
    },
    {
      "cell_type": "code",
      "source": [
        "# Create boxplot\n",
        "fig, ax = plt.subplots(figsize=(15,10))\n",
        "df.boxplot(ax=ax)\n",
        "\n",
        "# Set plot title and axis labels\n",
        "ax.set_title('Boxplot of CKD dataset', fontsize=15)\n",
        "ax.set_xlabel('Features', fontsize=10)\n",
        "ax.set_ylabel('Value range', fontsize=10)\n",
        "\n",
        "# Show plot\n",
        "plt.show()"
      ],
      "metadata": {
        "colab": {
          "base_uri": "https://localhost:8080/",
          "height": 780
        },
        "id": "LPXXztRYP6Gs",
        "outputId": "147f3b47-f82c-434b-fb63-0bae325a8b2c"
      },
      "execution_count": null,
      "outputs": [
        {
          "output_type": "display_data",
          "data": {
            "text/plain": [
              "<Figure size 1500x1000 with 1 Axes>"
            ],
            "image/png": "[encoded data removed]"
          },
          "metadata": {}
        }
      ]
    },
    {
      "cell_type": "code",
      "execution_count": null,
      "metadata": {
        "id": "iFEeWmhqefKO"
      },
      "outputs": [],
      "source": [
        "#Split the data into 70% training and 30% testing \n",
        "X_train,  X_test, y_train, y_test = train_test_split(\n",
        "        X, y, test_size= 0.3, shuffle=True)"
      ]
    },
    {
      "cell_type": "code",
      "execution_count": null,
      "metadata": {
        "id": "6IU7KR19eivJ"
      },
      "outputs": [],
      "source": [
        "#Build The model (Artificial Neural Network)\n",
        "# Function to create the Keras model\n",
        "def create_model():\n",
        "    model = Sequential()\n",
        "    model.add(Dense(64, input_dim=len(X.columns), kernel_initializer=k.initializers.random_normal(seed=13), activation=\"relu\"))\n",
        "    model.add(Dense(64, input_dim=len(X.columns), kernel_initializer=k.initializers.random_normal(seed=13), activation=\"relu\"))\n",
        "    model.add(Dense(64, input_dim=len(X.columns), kernel_initializer=k.initializers.random_normal(seed=13), activation=\"relu\"))\n",
        "    model.add(Dense(1, activation=\"sigmoid\"))  # Update activation to sigmoid\n",
        "    model.compile(loss='binary_crossentropy', optimizer='adam', metrics=['accuracy'])\n",
        "    return model"
      ]
    },
    {
      "cell_type": "code",
      "execution_count": null,
      "metadata": {
        "id": "8b1Z7AZ4uHrs"
      },
      "outputs": [],
      "source": [
        "from keras.layers import Dropout\n",
        "\n",
        "model = Sequential()\n",
        "model.add(Dense(64, input_dim=len(X.columns),             \n",
        "                kernel_initializer=k.initializers.random_normal(seed=13), \n",
        "                activation=\"relu\"))\n",
        "model.add(Dropout(0.2))\n",
        "model.add(Dense(64, input_dim=len(X.columns),             \n",
        "                kernel_initializer=k.initializers.random_normal(seed=13), \n",
        "                activation=\"relu\"))\n",
        "model.add(Dropout(0.2))\n",
        "model.add(Dense(64, input_dim=len(X.columns),              \n",
        "                kernel_initializer=k.initializers.random_normal(seed=13), \n",
        "                activation=\"relu\"))\n",
        "model.add(Dropout(0.2))\n",
        "model.add(Dense(1, activation=\"hard_sigmoid\"))\n"
      ]
    },
    {
      "cell_type": "code",
      "execution_count": null,
      "metadata": {
        "id": "F7wkOq_6fSE2"
      },
      "outputs": [],
      "source": [
        "#Compile the model\n",
        "model.compile(loss='binary_crossentropy', \n",
        "                  optimizer='adam', metrics=['accuracy'])"
      ]
    },
    {
      "cell_type": "code",
      "execution_count": null,
      "metadata": {
        "id": "zBxC6iLht5m4"
      },
      "outputs": [],
      "source": [
        "from keras.callbacks import EarlyStopping\n",
        "\n",
        "early_stopping = EarlyStopping(monitor='val_loss', patience=10)"
      ]
    },
    {
      "cell_type": "code",
      "execution_count": null,
      "metadata": {
        "colab": {
          "base_uri": "https://localhost:8080/"
        },
        "id": "5R60LcwEfVry",
        "outputId": "b6acebbd-7b39-47de-9e72-4cae03e68d08"
      },
      "outputs": [
        {
          "output_type": "stream",
          "name": "stderr",
          "text": [
            "<ipython-input-438-f7d8cc8b758e>:2: DeprecationWarning: KerasClassifier is deprecated, use Sci-Keras (https://github.com/adriangb/scikeras) instead. See https://www.adriangb.com/scikeras/stable/migration.html for help migrating.\n",
            "  estimator = KerasClassifier(build_fn= create_model, epochs=500, batch_size=X.shape[0],\n"
          ]
        }
      ],
      "source": [
        "#Train the model\n",
        "estimator = KerasClassifier(build_fn= create_model, epochs=500, batch_size=X.shape[0], \n",
        "                            validation_split=0.2, callbacks=[early_stopping])\n"
      ]
    },
    {
      "cell_type": "code",
      "execution_count": null,
      "metadata": {
        "colab": {
          "base_uri": "https://localhost:8080/"
        },
        "id": "U8tuZ5egyvri",
        "outputId": "81374549-aa15-4008-d9ae-bd2ee006f6de"
      },
      "outputs": [
        {
          "output_type": "stream",
          "name": "stdout",
          "text": [
            "Epoch 1/70\n",
            "10/10 [==============================] - 1s 25ms/step - loss: 0.6677 - accuracy: 0.7844 - val_loss: 0.7845 - val_accuracy: 0.0000e+00\n",
            "Epoch 2/70\n",
            "10/10 [==============================] - 0s 7ms/step - loss: 0.5821 - accuracy: 0.7812 - val_loss: 1.1340 - val_accuracy: 0.0000e+00\n",
            "Epoch 3/70\n",
            "10/10 [==============================] - 0s 7ms/step - loss: 0.4769 - accuracy: 0.7812 - val_loss: 1.4633 - val_accuracy: 0.0000e+00\n",
            "Epoch 4/70\n",
            "10/10 [==============================] - 0s 7ms/step - loss: 0.4400 - accuracy: 0.7812 - val_loss: 1.2129 - val_accuracy: 0.0000e+00\n",
            "Epoch 5/70\n",
            "10/10 [==============================] - 0s 8ms/step - loss: 0.3993 - accuracy: 0.7812 - val_loss: 1.2484 - val_accuracy: 0.0000e+00\n",
            "Epoch 6/70\n",
            "10/10 [==============================] - 0s 6ms/step - loss: 0.4007 - accuracy: 0.7812 - val_loss: 1.2071 - val_accuracy: 0.0000e+00\n",
            "Epoch 7/70\n",
            "10/10 [==============================] - 0s 8ms/step - loss: 0.3682 - accuracy: 0.7812 - val_loss: 0.9041 - val_accuracy: 0.0000e+00\n",
            "Epoch 8/70\n",
            "10/10 [==============================] - 0s 8ms/step - loss: 0.3054 - accuracy: 0.7844 - val_loss: 0.8546 - val_accuracy: 0.0000e+00\n",
            "Epoch 9/70\n",
            "10/10 [==============================] - 0s 6ms/step - loss: 0.2781 - accuracy: 0.8500 - val_loss: 0.7720 - val_accuracy: 0.3750\n",
            "Epoch 10/70\n",
            "10/10 [==============================] - 0s 6ms/step - loss: 0.2934 - accuracy: 0.8750 - val_loss: 0.7712 - val_accuracy: 0.4750\n",
            "Epoch 11/70\n",
            "10/10 [==============================] - 0s 5ms/step - loss: 0.2620 - accuracy: 0.9375 - val_loss: 0.6071 - val_accuracy: 0.9375\n",
            "Epoch 12/70\n",
            "10/10 [==============================] - 0s 5ms/step - loss: 0.2337 - accuracy: 0.9531 - val_loss: 0.6860 - val_accuracy: 0.7875\n",
            "Epoch 13/70\n",
            "10/10 [==============================] - 0s 7ms/step - loss: 0.2078 - accuracy: 0.9187 - val_loss: 0.5589 - val_accuracy: 0.9375\n",
            "Epoch 14/70\n",
            "10/10 [==============================] - 0s 7ms/step - loss: 0.1941 - accuracy: 0.9500 - val_loss: 0.4584 - val_accuracy: 0.9500\n",
            "Epoch 15/70\n",
            "10/10 [==============================] - 0s 7ms/step - loss: 0.1701 - accuracy: 0.9563 - val_loss: 0.3594 - val_accuracy: 0.9500\n",
            "Epoch 16/70\n",
            "10/10 [==============================] - 0s 7ms/step - loss: 0.1422 - accuracy: 0.9625 - val_loss: 0.3803 - val_accuracy: 0.9500\n",
            "Epoch 17/70\n",
            "10/10 [==============================] - 0s 7ms/step - loss: 0.1253 - accuracy: 0.9594 - val_loss: 0.1923 - val_accuracy: 0.9500\n",
            "Epoch 18/70\n",
            "10/10 [==============================] - 0s 8ms/step - loss: 0.1489 - accuracy: 0.9563 - val_loss: 0.1303 - val_accuracy: 0.9500\n",
            "Epoch 19/70\n",
            "10/10 [==============================] - 0s 8ms/step - loss: 0.0893 - accuracy: 0.9750 - val_loss: 0.1626 - val_accuracy: 0.9500\n",
            "Epoch 20/70\n",
            "10/10 [==============================] - 0s 6ms/step - loss: 0.1414 - accuracy: 0.9594 - val_loss: 0.0556 - val_accuracy: 0.9500\n",
            "Epoch 21/70\n",
            "10/10 [==============================] - 0s 8ms/step - loss: 0.0974 - accuracy: 0.9688 - val_loss: 0.1638 - val_accuracy: 0.9500\n",
            "Epoch 22/70\n",
            "10/10 [==============================] - 0s 6ms/step - loss: 0.0791 - accuracy: 0.9688 - val_loss: 0.0447 - val_accuracy: 0.9750\n",
            "Epoch 23/70\n",
            "10/10 [==============================] - 0s 8ms/step - loss: 0.0760 - accuracy: 0.9688 - val_loss: 0.1335 - val_accuracy: 0.9500\n",
            "Epoch 24/70\n",
            "10/10 [==============================] - 0s 8ms/step - loss: 0.1087 - accuracy: 0.9688 - val_loss: 0.0558 - val_accuracy: 0.9625\n",
            "Epoch 25/70\n",
            "10/10 [==============================] - 0s 6ms/step - loss: 0.0506 - accuracy: 0.9750 - val_loss: 0.0812 - val_accuracy: 0.9500\n",
            "Epoch 26/70\n",
            "10/10 [==============================] - 0s 8ms/step - loss: 0.0949 - accuracy: 0.9812 - val_loss: 0.0439 - val_accuracy: 0.9750\n",
            "Epoch 27/70\n",
            "10/10 [==============================] - 0s 8ms/step - loss: 0.0624 - accuracy: 0.9656 - val_loss: 0.0840 - val_accuracy: 0.9500\n",
            "Epoch 28/70\n",
            "10/10 [==============================] - 0s 6ms/step - loss: 0.0458 - accuracy: 0.9750 - val_loss: 0.0461 - val_accuracy: 0.9750\n",
            "Epoch 29/70\n",
            "10/10 [==============================] - 0s 6ms/step - loss: 0.0372 - accuracy: 0.9906 - val_loss: 0.0437 - val_accuracy: 0.9750\n",
            "Epoch 30/70\n",
            "10/10 [==============================] - 0s 6ms/step - loss: 0.0556 - accuracy: 0.9719 - val_loss: 0.0375 - val_accuracy: 0.9750\n",
            "Epoch 31/70\n",
            "10/10 [==============================] - 0s 9ms/step - loss: 0.0441 - accuracy: 0.9875 - val_loss: 0.0509 - val_accuracy: 0.9625\n",
            "Epoch 32/70\n",
            "10/10 [==============================] - 0s 9ms/step - loss: 0.0448 - accuracy: 0.9844 - val_loss: 0.0302 - val_accuracy: 0.9750\n",
            "Epoch 33/70\n",
            "10/10 [==============================] - 0s 6ms/step - loss: 0.0439 - accuracy: 0.9844 - val_loss: 0.0384 - val_accuracy: 0.9750\n",
            "Epoch 34/70\n",
            "10/10 [==============================] - 0s 6ms/step - loss: 0.0311 - accuracy: 0.9844 - val_loss: 0.0475 - val_accuracy: 0.9750\n",
            "Epoch 35/70\n",
            "10/10 [==============================] - 0s 8ms/step - loss: 0.0447 - accuracy: 0.9844 - val_loss: 0.0349 - val_accuracy: 0.9750\n",
            "Epoch 36/70\n",
            "10/10 [==============================] - 0s 5ms/step - loss: 0.0408 - accuracy: 0.9812 - val_loss: 0.0381 - val_accuracy: 0.9750\n",
            "Epoch 37/70\n",
            "10/10 [==============================] - 0s 8ms/step - loss: 0.0302 - accuracy: 0.9937 - val_loss: 0.0305 - val_accuracy: 0.9750\n",
            "Epoch 38/70\n",
            "10/10 [==============================] - 0s 7ms/step - loss: 0.0327 - accuracy: 0.9844 - val_loss: 0.0395 - val_accuracy: 0.9750\n",
            "Epoch 39/70\n",
            "10/10 [==============================] - 0s 8ms/step - loss: 0.0337 - accuracy: 0.9844 - val_loss: 0.0338 - val_accuracy: 0.9875\n",
            "Epoch 40/70\n",
            "10/10 [==============================] - 0s 6ms/step - loss: 0.0262 - accuracy: 0.9906 - val_loss: 0.0252 - val_accuracy: 0.9875\n",
            "Epoch 41/70\n",
            "10/10 [==============================] - 0s 8ms/step - loss: 0.0312 - accuracy: 0.9781 - val_loss: 0.0338 - val_accuracy: 0.9750\n",
            "Epoch 42/70\n",
            "10/10 [==============================] - 0s 6ms/step - loss: 0.0692 - accuracy: 0.9906 - val_loss: 0.0269 - val_accuracy: 0.9875\n",
            "Epoch 43/70\n",
            "10/10 [==============================] - 0s 7ms/step - loss: 0.0284 - accuracy: 0.9844 - val_loss: 0.0240 - val_accuracy: 0.9875\n",
            "Epoch 44/70\n",
            "10/10 [==============================] - 0s 7ms/step - loss: 0.0212 - accuracy: 0.9969 - val_loss: 0.0360 - val_accuracy: 0.9750\n",
            "Epoch 45/70\n",
            "10/10 [==============================] - 0s 8ms/step - loss: 0.0346 - accuracy: 0.9812 - val_loss: 0.0191 - val_accuracy: 0.9875\n",
            "Epoch 46/70\n",
            "10/10 [==============================] - 0s 8ms/step - loss: 0.0298 - accuracy: 0.9844 - val_loss: 0.0440 - val_accuracy: 0.9750\n",
            "Epoch 47/70\n",
            "10/10 [==============================] - 0s 8ms/step - loss: 0.0149 - accuracy: 0.9969 - val_loss: 0.0215 - val_accuracy: 0.9875\n",
            "Epoch 48/70\n",
            "10/10 [==============================] - 0s 6ms/step - loss: 0.0277 - accuracy: 0.9844 - val_loss: 0.0168 - val_accuracy: 0.9875\n",
            "Epoch 49/70\n",
            "10/10 [==============================] - 0s 6ms/step - loss: 0.0194 - accuracy: 0.9906 - val_loss: 0.0167 - val_accuracy: 0.9875\n",
            "Epoch 50/70\n",
            "10/10 [==============================] - 0s 6ms/step - loss: 0.0219 - accuracy: 0.9937 - val_loss: 0.0267 - val_accuracy: 0.9875\n",
            "Epoch 51/70\n",
            "10/10 [==============================] - 0s 6ms/step - loss: 0.0192 - accuracy: 0.9969 - val_loss: 0.0187 - val_accuracy: 1.0000\n",
            "Epoch 52/70\n",
            "10/10 [==============================] - 0s 6ms/step - loss: 0.0183 - accuracy: 0.9906 - val_loss: 0.0212 - val_accuracy: 0.9875\n",
            "Epoch 53/70\n",
            "10/10 [==============================] - 0s 6ms/step - loss: 0.0206 - accuracy: 0.9937 - val_loss: 0.0146 - val_accuracy: 0.9875\n",
            "Epoch 54/70\n",
            "10/10 [==============================] - 0s 8ms/step - loss: 0.0180 - accuracy: 0.9906 - val_loss: 0.0207 - val_accuracy: 0.9875\n",
            "Epoch 55/70\n",
            "10/10 [==============================] - 0s 6ms/step - loss: 0.0155 - accuracy: 0.9937 - val_loss: 0.0184 - val_accuracy: 0.9875\n",
            "Epoch 56/70\n",
            "10/10 [==============================] - 0s 6ms/step - loss: 0.0234 - accuracy: 0.9906 - val_loss: 0.0318 - val_accuracy: 0.9875\n",
            "Epoch 57/70\n",
            "10/10 [==============================] - 0s 7ms/step - loss: 0.0222 - accuracy: 0.9937 - val_loss: 0.0186 - val_accuracy: 0.9875\n",
            "Epoch 58/70\n",
            "10/10 [==============================] - 0s 6ms/step - loss: 0.0143 - accuracy: 0.9906 - val_loss: 0.0164 - val_accuracy: 0.9875\n",
            "Epoch 59/70\n",
            "10/10 [==============================] - 0s 6ms/step - loss: 0.0261 - accuracy: 0.9937 - val_loss: 0.0394 - val_accuracy: 0.9750\n",
            "Epoch 60/70\n",
            "10/10 [==============================] - 0s 8ms/step - loss: 0.0247 - accuracy: 0.9875 - val_loss: 0.0377 - val_accuracy: 0.9750\n",
            "Epoch 61/70\n",
            "10/10 [==============================] - 0s 6ms/step - loss: 0.0182 - accuracy: 1.0000 - val_loss: 0.0095 - val_accuracy: 1.0000\n",
            "Epoch 62/70\n",
            "10/10 [==============================] - 0s 6ms/step - loss: 0.0142 - accuracy: 0.9969 - val_loss: 0.0159 - val_accuracy: 0.9875\n",
            "Epoch 63/70\n",
            "10/10 [==============================] - 0s 7ms/step - loss: 0.0147 - accuracy: 0.9969 - val_loss: 0.0150 - val_accuracy: 0.9875\n",
            "Epoch 64/70\n",
            "10/10 [==============================] - 0s 6ms/step - loss: 0.0175 - accuracy: 0.9906 - val_loss: 0.0057 - val_accuracy: 1.0000\n",
            "Epoch 65/70\n",
            "10/10 [==============================] - 0s 7ms/step - loss: 0.0159 - accuracy: 0.9937 - val_loss: 0.0209 - val_accuracy: 0.9875\n",
            "Epoch 66/70\n",
            "10/10 [==============================] - 0s 6ms/step - loss: 0.0152 - accuracy: 0.9937 - val_loss: 0.0092 - val_accuracy: 1.0000\n",
            "Epoch 67/70\n",
            "10/10 [==============================] - 0s 6ms/step - loss: 0.0151 - accuracy: 0.9969 - val_loss: 0.0130 - val_accuracy: 0.9875\n",
            "Epoch 68/70\n",
            "10/10 [==============================] - 0s 6ms/step - loss: 0.0095 - accuracy: 0.9937 - val_loss: 0.0168 - val_accuracy: 0.9875\n",
            "Epoch 69/70\n",
            "10/10 [==============================] - 0s 8ms/step - loss: 0.0114 - accuracy: 0.9937 - val_loss: 0.0101 - val_accuracy: 1.0000\n",
            "Epoch 70/70\n",
            "10/10 [==============================] - 0s 6ms/step - loss: 0.0151 - accuracy: 0.9906 - val_loss: 0.0134 - val_accuracy: 0.9875\n"
          ]
        }
      ],
      "source": [
        "history = model.fit(X, y, epochs=70, batch_size=32, \n",
        "                    validation_split=0.2,\n",
        "                    callbacks=[early_stopping])"
      ]
    },
    {
      "cell_type": "code",
      "execution_count": null,
      "metadata": {
        "colab": {
          "base_uri": "https://localhost:8080/"
        },
        "id": "ftnfawXJfa00",
        "outputId": "1286dac0-56e9-4bd0-aa4d-554eab2f7dee"
      },
      "outputs": [
        {
          "output_type": "stream",
          "name": "stderr",
          "text": [
            "WARNING:absl:Found untraced functions such as _update_step_xla while saving (showing 1 of 1). These functions will not be directly callable after loading.\n"
          ]
        }
      ],
      "source": [
        "#Save the model\n",
        "model.save(\"ckd.model\")"
      ]
    },
    {
      "cell_type": "code",
      "execution_count": null,
      "metadata": {
        "colab": {
          "base_uri": "https://localhost:8080/",
          "height": 472
        },
        "id": "2Si2YCLDftP1",
        "outputId": "70c47163-3ee4-4f8f-97b5-b3eaa7849810"
      },
      "outputs": [
        {
          "output_type": "display_data",
          "data": {
            "text/plain": [
              "<Figure size 640x480 with 1 Axes>"
            ],
            "image/png": "[encoded data removed]"
          },
          "metadata": {}
        }
      ],
      "source": [
        "#Visualize the models accuracy and loss\n",
        "# Plot accuracy\n",
        "plt.plot(history.history['accuracy'])\n",
        "plt.plot(history.history['val_accuracy'])\n",
        "plt.title('Model Accuracy')\n",
        "plt.ylabel('Accuracy')\n",
        "plt.xlabel('Epoch')\n",
        "plt.legend(['train', 'validation'], loc='upper left')\n",
        "plt.show()"
      ]
    },
    {
      "cell_type": "code",
      "execution_count": null,
      "metadata": {
        "colab": {
          "base_uri": "https://localhost:8080/",
          "height": 472
        },
        "id": "2mcnc3eV09_O",
        "outputId": "f696be8d-ccc4-40df-96cd-e437ed23a60c"
      },
      "outputs": [
        {
          "output_type": "display_data",
          "data": {
            "text/plain": [
              "<Figure size 640x480 with 1 Axes>"
            ],
            "image/png": "[encoded data removed]"
          },
          "metadata": {}
        }
      ],
      "source": [
        "# Plot loss\n",
        "plt.plot(history.history['loss'])\n",
        "plt.plot(history.history['val_loss'])\n",
        "plt.title('Model Loss')\n",
        "plt.ylabel('Loss')\n",
        "plt.xlabel('Epoch')\n",
        "plt.legend(['train', 'validation'], loc='upper right')\n",
        "plt.show()"
      ]
    },
    {
      "cell_type": "code",
      "execution_count": null,
      "metadata": {
        "colab": {
          "base_uri": "https://localhost:8080/"
        },
        "id": "Ti9Lrf0cgK-f",
        "outputId": "305a8de8-4534-4c58-d1ef-d99753157554"
      },
      "outputs": [
        {
          "output_type": "stream",
          "name": "stdout",
          "text": [
            "Shape of training data:  (280, 16)\n",
            "Shape of test data:  (120, 16)\n"
          ]
        }
      ],
      "source": [
        "print(\"Shape of training data: \", X_train.shape)\n",
        "print(\"Shape of test data: \", X_test.shape )"
      ]
    },
    {
      "cell_type": "code",
      "source": [
        "from sklearn.metrics import confusion_matrix\n",
        "\n",
        "# load the model\n",
        "model = load_model(\"ckd.model\")\n",
        "\n",
        "# predict on the test set\n",
        "y_pred = model.predict(X_test)\n",
        "\n",
        "# convert probabilities to binary predictions\n",
        "y_pred_binary = [1 if prob >= 0.5 else 0 for prob in y_pred]\n",
        "\n",
        "# create the confusion matrix\n",
        "cm = confusion_matrix(y_test, y_pred_binary)\n",
        "# print the confusion matrix\n",
        "print(cm)"
      ],
      "metadata": {
        "colab": {
          "base_uri": "https://localhost:8080/"
        },
        "id": "Jci_BR9r86Tt",
        "outputId": "7de4513d-7330-42fe-db71-41e6208a9d3a"
      },
      "execution_count": null,
      "outputs": [
        {
          "output_type": "stream",
          "name": "stdout",
          "text": [
            "4/4 [==============================] - 0s 2ms/step\n",
            "[[73  0]\n",
            " [ 1 46]]\n"
          ]
        }
      ]
    },
    {
      "cell_type": "code",
      "source": [
        "import seaborn as sns\n",
        "\n",
        "# plot the confusion matrix\n",
        "sns.heatmap(cm, annot=True, cmap='Blues')\n",
        "plt.xlabel('Predicted')\n",
        "plt.ylabel('True')\n",
        "plt.show()"
      ],
      "metadata": {
        "colab": {
          "base_uri": "https://localhost:8080/",
          "height": 449
        },
        "id": "fk73u01ZT4dW",
        "outputId": "0891b87d-224a-4f6c-8202-c87c87e4b64f"
      },
      "execution_count": null,
      "outputs": [
        {
          "output_type": "display_data",
          "data": {
            "text/plain": [
              "<Figure size 640x480 with 2 Axes>"
            ],
            "image/png": "[encoded data removed]"
          },
          "metadata": {}
        }
      ]
    },
    {
      "cell_type": "code",
      "source": [
        "for model_file in glob.glob(\"*.model\"):\n",
        "  print(\"Model file: \", model_file)\n",
        "  model = load_model(model_file)\n",
        "  pred = model.predict(X_test)\n",
        "  #Threshold, transforming probabilities to either 0 or 1 \n",
        "  #depending if the probability is below or above 0.5\n",
        "  pred = [1 if y>=0.5 else 0 for y in pred] \n",
        "  scores = model.evaluate(X_test, y_test)\n",
        "  print()\n",
        "  print(\"Original: {0}\".format(\", \".join([str(x) for x in y_test])))\n",
        "  print()\n",
        "  print(\"Predicted:{0}\".format(\", \".join([str(x) for x in pred])))\n",
        "  print() \n",
        "  print(\"Scores: loss = \", scores[0], \" accuracy = \", scores[1])\n",
        "  print()"
      ],
      "metadata": {
        "colab": {
          "base_uri": "https://localhost:8080/"
        },
        "id": "T8dMgmETVf7M",
        "outputId": "f4c3da32-406c-44fd-83c1-40e2d7c95ca0"
      },
      "execution_count": null,
      "outputs": [
        {
          "output_type": "stream",
          "name": "stdout",
          "text": [
            "Model file:  ckd.model\n",
            "4/4 [==============================] - 0s 3ms/step\n",
            "4/4 [==============================] - 0s 4ms/step - loss: 0.0117 - accuracy: 0.9917\n",
            "\n",
            "Original: 0, 1, 0, 1, 1, 0, 0, 1, 1, 0, 1, 0, 0, 0, 0, 1, 1, 0, 0, 0, 1, 0, 0, 0, 1, 0, 1, 0, 1, 0, 1, 1, 1, 0, 0, 0, 1, 0, 0, 0, 1, 1, 0, 0, 1, 0, 1, 1, 0, 0, 1, 0, 0, 0, 0, 1, 0, 1, 0, 1, 1, 0, 0, 1, 0, 1, 0, 0, 1, 0, 0, 0, 0, 1, 1, 1, 0, 1, 1, 0, 0, 1, 0, 1, 0, 1, 0, 0, 1, 1, 0, 0, 0, 1, 0, 0, 0, 0, 1, 0, 1, 1, 0, 0, 0, 0, 0, 0, 0, 0, 1, 0, 0, 1, 0, 0, 1, 0, 0, 1\n",
            "\n",
            "Predicted:0, 1, 0, 1, 1, 0, 0, 1, 1, 0, 1, 0, 0, 0, 0, 1, 1, 0, 0, 0, 1, 0, 0, 0, 1, 0, 1, 0, 1, 0, 1, 1, 1, 0, 0, 0, 1, 0, 0, 0, 1, 1, 0, 0, 1, 0, 1, 1, 0, 0, 1, 0, 0, 0, 0, 1, 0, 1, 0, 1, 1, 0, 0, 1, 0, 1, 0, 0, 1, 0, 0, 0, 0, 1, 1, 1, 0, 1, 1, 0, 0, 1, 0, 1, 0, 1, 0, 0, 1, 0, 0, 0, 0, 1, 0, 0, 0, 0, 1, 0, 1, 1, 0, 0, 0, 0, 0, 0, 0, 0, 1, 0, 0, 1, 0, 0, 1, 0, 0, 1\n",
            "\n",
            "Scores: loss =  0.011733129620552063  accuracy =  0.9916666746139526\n",
            "\n"
          ]
        }
      ]
    }
  ],
  "metadata": {
    "colab": {
      "provenance": []
    },
    "kernelspec": {
      "display_name": "Python 3",
      "name": "python3"
    },
    "language_info": {
      "name": "python"
    }
  },
  "nbformat": 4,
  "nbformat_minor": 0
}